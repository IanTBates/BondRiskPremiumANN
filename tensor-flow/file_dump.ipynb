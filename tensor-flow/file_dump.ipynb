{
 "cells": [
  {
   "cell_type": "code",
   "execution_count": null,
   "id": "a791a028",
   "metadata": {},
   "outputs": [],
   "source": [
    "class window:\n",
    "    \"\"\"\n",
    "    k is an iterator to get new windows\n",
    "    \"\"\"\n",
    "    def __init__(self, dataset : pd.DataFrame, window_size, forecast_horizon, stride, k):\n",
    "    \n",
    "        row_start_index = dataset.index[0]\n",
    "        row_start_index = dataset.index[-1]\n",
    "\n",
    "        \n",
    "\n",
    "\n",
    "    def get_window(self, k):\n",
    "        pass\n",
    "class standardize_window():\n",
    "\n",
    "    \"\"\"\n",
    "    standardize each feature by their window mean and std\n",
    "    \n",
    "    \"\"\"\n",
    "\n",
    "    def __init__(self):\n"
   ]
  },
  {
   "cell_type": "code",
   "execution_count": null,
   "id": "6b55a4a3",
   "metadata": {},
   "outputs": [],
   "source": [
    "column_indices = {name: i for i, name in enumerate(lagged_df.columns)}\n",
    "print(column_indices)"
   ]
  },
  {
   "cell_type": "code",
   "execution_count": null,
   "id": "663be54a",
   "metadata": {},
   "outputs": [],
   "source": []
  },
  {
   "cell_type": "code",
   "execution_count": null,
   "id": "364f978c",
   "metadata": {},
   "outputs": [],
   "source": []
  },
  {
   "cell_type": "code",
   "execution_count": null,
   "id": "c20e71e9",
   "metadata": {},
   "outputs": [],
   "source": []
  }
 ],
 "metadata": {
  "language_info": {
   "name": "python"
  }
 },
 "nbformat": 4,
 "nbformat_minor": 5
}
