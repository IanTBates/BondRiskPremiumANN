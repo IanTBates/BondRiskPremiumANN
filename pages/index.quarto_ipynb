{
 "cells": [
  {
   "cell_type": "markdown",
   "id": "e53f952d",
   "metadata": {},
   "source": [
    "---\n",
    "title: \"Bond Risk Premium ANN\"\n",
    "jupyter: python3\n",
    "---"
   ]
  },
  {
   "cell_type": "code",
   "execution_count": 1,
   "id": "7550a08c",
   "metadata": {},
   "outputs": [],
   "source": [
    "#| echo: false\n",
    "import datetime\n",
    "today = datetime.date.today()\n",
    "today = today.strftime(\"%B %d, %Y\")"
   ]
  },
  {
   "cell_type": "markdown",
   "id": "4f47dd7e",
   "metadata": {
    "user_expressions": [
     {
      "expression": "today",
      "result": {
       "data": {
        "text/plain": "'July 18, 2025'"
       },
       "metadata": {},
       "status": "ok"
      }
     }
    ]
   },
   "source": [
    "This is a project by Ian Bates last updated  `{python} today`.\n",
    "\n",
    "\n",
    "## Introduction\n",
    "\n",
    "\n",
    "## Modeling \n",
    "\n",
    "\n",
    "## Report\n",
    "\n",
    "\n",
    "## Presentation"
   ]
  }
 ],
 "metadata": {
  "kernelspec": {
   "display_name": "Python 3 (ipykernel)",
   "language": "python",
   "name": "python3",
   "path": "C:\\Users\\Iantb\\Documents\\GitHub\\BondRiskPremiumANN\\.venv\\share\\jupyter\\kernels\\python3"
  },
  "language_info": {
   "codemirror_mode": {
    "name": "ipython",
    "version": 3
   },
   "file_extension": ".py",
   "mimetype": "text/x-python",
   "name": "python",
   "nbconvert_exporter": "python",
   "pygments_lexer": "ipython3",
   "version": "3.13.5"
  }
 },
 "nbformat": 4,
 "nbformat_minor": 5
}
